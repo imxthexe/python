{
  "nbformat": 4,
  "nbformat_minor": 0,
  "metadata": {
    "colab": {
      "provenance": [],
      "authorship_tag": "ABX9TyMp1A+02C9thifqaNQJmGlK",
      "include_colab_link": true
    },
    "kernelspec": {
      "name": "python3",
      "display_name": "Python 3"
    },
    "language_info": {
      "name": "python"
    }
  },
  "cells": [
    {
      "cell_type": "markdown",
      "metadata": {
        "id": "view-in-github",
        "colab_type": "text"
      },
      "source": [
        "<a href=\"https://colab.research.google.com/github/imxthexe/python/blob/main/algoPython.ipynb\" target=\"_parent\"><img src=\"https://colab.research.google.com/assets/colab-badge.svg\" alt=\"Open In Colab\"/></a>"
      ]
    },
    {
      "cell_type": "code",
      "execution_count": null,
      "metadata": {
        "id": "lcwgrYxf2D2W",
        "outputId": "ced71bba-2dcc-4a4b-d373-1ad202c6e730",
        "colab": {
          "base_uri": "https://localhost:8080/"
        }
      },
      "outputs": [
        {
          "output_type": "stream",
          "name": "stdout",
          "text": [
            "Quelles est le 1er opérateur ?\n",
            "69\n",
            "Quelles est le 2ème opérateur ?\n",
            "89\n",
            "Le resultat est de 69 x 89 est = 6141\n"
          ]
        }
      ],
      "source": [
        "print(\"Quelles est le 1er opérateur ?\")\n",
        "op1 = int(input())\n",
        "print(\"Quelles est le 2ème opérateur ?\")\n",
        "op2 = int(input())\n",
        "result = op1 * op2\n",
        "print(\"Le resultat est de\",op1, \"x\", op2 ,\"est =\", result)\n"
      ]
    },
    {
      "cell_type": "code",
      "source": [
        "print(\"Veuillez saisir le nom de l'élève\")\n",
        "nomEleve = input()\n",
        "print(\"Saisissez le nombre de points que vous avez ?\")\n",
        "points = int(input())\n",
        "if points < 120 :\n",
        "  if points >= 100 :\n",
        "    print(\"Rattrapage\")\n",
        "  else :\n",
        "    print(\"Refuser\")\n",
        "else :\n",
        "  print(\"Admis\")"
      ],
      "metadata": {
        "id": "qGp8aPpk9SEp",
        "outputId": "244ebae3-e2de-428d-a443-cde325757f65",
        "colab": {
          "base_uri": "https://localhost:8080/"
        }
      },
      "execution_count": 5,
      "outputs": [
        {
          "output_type": "stream",
          "name": "stdout",
          "text": [
            "Veuillez saisir le nom de l'élève\n",
            "Mathis\n",
            "Saisissez le nombre de points que vous avez ?\n",
            "110\n",
            "Rattrapage\n"
          ]
        }
      ]
    },
    {
      "cell_type": "code",
      "source": [
        "print(\"Veuillez saisir le numéro du mois\")\n",
        "mois = int(input())\n",
        "if mois == 1 :\n",
        "  print(\"C'est le mois de janvier\")\n",
        "elif mois == 2 :\n",
        "  print(\"C'est le mois de février\")\n",
        "elif mois == 3 :\n",
        "  print(\"C'est le mois de mars\")\n",
        "elif mois == 4 :\n",
        "  print(\"C'est le mois de avril\")\n",
        "elif mois == 5 :\n",
        "  print(\"C'est le mois de mai\")\n",
        "elif mois == 6 :\n",
        "  print(\"C'est le mois de juin\")\n",
        "elif mois == 7 :\n",
        "  print(\"C'est le mois de juillet\")\n",
        "elif mois == 8 :\n",
        "  print(\"C'est le mois de aout\")\n",
        "elif mois == 9 :\n",
        "  print(\"C'est le mois de septembre\")\n",
        "elif mois == 10 :\n",
        "  print(\"C'est le mois de octobre\")\n",
        "elif mois == 11 :\n",
        "  print(\"C'est le mois de novembre\")\n",
        "elif mois == 12 :\n",
        "  print(\"C'est le mois de décembre\")\n",
        "else :\n",
        "  print(\"Ce mois n'existe pas\")"
      ],
      "metadata": {
        "id": "qesPnTRoDtWo",
        "outputId": "2bf05971-1be6-4982-fa37-f295d6ee3473",
        "colab": {
          "base_uri": "https://localhost:8080/"
        }
      },
      "execution_count": 6,
      "outputs": [
        {
          "output_type": "stream",
          "name": "stdout",
          "text": [
            "Veuillez saisir le numéro du mois\n",
            "5\n",
            "C'est le mois de mai\n"
          ]
        }
      ]
    }
  ]
}