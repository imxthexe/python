{
  "nbformat": 4,
  "nbformat_minor": 0,
  "metadata": {
    "colab": {
      "provenance": [],
      "authorship_tag": "ABX9TyOPrxEeJluNF3rsY+G1CL6o",
      "include_colab_link": true
    },
    "kernelspec": {
      "name": "python3",
      "display_name": "Python 3"
    },
    "language_info": {
      "name": "python"
    }
  },
  "cells": [
    {
      "cell_type": "markdown",
      "metadata": {
        "id": "view-in-github",
        "colab_type": "text"
      },
      "source": [
        "<a href=\"https://colab.research.google.com/github/imxthexe/python/blob/main/algoPython.ipynb\" target=\"_parent\"><img src=\"https://colab.research.google.com/assets/colab-badge.svg\" alt=\"Open In Colab\"/></a>"
      ]
    },
    {
      "cell_type": "code",
      "execution_count": 2,
      "metadata": {
        "id": "lcwgrYxf2D2W",
        "outputId": "ced71bba-2dcc-4a4b-d373-1ad202c6e730",
        "colab": {
          "base_uri": "https://localhost:8080/"
        }
      },
      "outputs": [
        {
          "output_type": "stream",
          "name": "stdout",
          "text": [
            "Quelles est le 1er opérateur ?\n",
            "69\n",
            "Quelles est le 2ème opérateur ?\n",
            "89\n",
            "Le resultat est de 69 x 89 est = 6141\n"
          ]
        }
      ],
      "source": [
        "\n",
        "print(\"Quelles est le 1er opérateur ?\")\n",
        "op1 = int(input())\n",
        "print(\"Quelles est le 2ème opérateur ?\")\n",
        "op2 = int(input())\n",
        "result = op1 * op2\n",
        "print(\"Le resultat est de\",op1, \"x\", op2 ,\"est =\", result)\n"
      ]
    }
  ]
}