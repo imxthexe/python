{
  "nbformat": 4,
  "nbformat_minor": 0,
  "metadata": {
    "colab": {
      "provenance": [],
      "include_colab_link": true
    },
    "kernelspec": {
      "name": "python3",
      "display_name": "Python 3"
    },
    "language_info": {
      "name": "python"
    }
  },
  "cells": [
    {
      "cell_type": "markdown",
      "metadata": {
        "id": "view-in-github",
        "colab_type": "text"
      },
      "source": [
        "<a href=\"https://colab.research.google.com/github/imxthexe/python/blob/main/algoPython.ipynb\" target=\"_parent\"><img src=\"https://colab.research.google.com/assets/colab-badge.svg\" alt=\"Open In Colab\"/></a>"
      ]
    },
    {
      "cell_type": "code",
      "execution_count": null,
      "metadata": {
        "id": "lcwgrYxf2D2W",
        "outputId": "ced71bba-2dcc-4a4b-d373-1ad202c6e730",
        "colab": {
          "base_uri": "https://localhost:8080/"
        }
      },
      "outputs": [
        {
          "output_type": "stream",
          "name": "stdout",
          "text": [
            "Quelles est le 1er opérateur ?\n",
            "69\n",
            "Quelles est le 2ème opérateur ?\n",
            "89\n",
            "Le resultat est de 69 x 89 est = 6141\n"
          ]
        }
      ],
      "source": [
        "print(\"Quelles est le 1er opérateur ?\")\n",
        "op1 = int(input())\n",
        "print(\"Quelles est le 2ème opérateur ?\")\n",
        "op2 = int(input())\n",
        "result = op1 * op2\n",
        "print(\"Le resultat est de\",op1, \"x\", op2 ,\"est =\", result)\n"
      ]
    },
    {
      "cell_type": "code",
      "source": [
        "print(\"Veuillez saisir le nom de l'élève\")\n",
        "nomEleve = input()\n",
        "print(\"Saisissez le nombre de points que vous avez ?\")\n",
        "points = int(input())\n",
        "if points < 120 :\n",
        "  if points >= 100 :\n",
        "    print(\"Rattrapage\")\n",
        "  else :\n",
        "    print(\"Refuser\")\n",
        "else :\n",
        "  print(\"Admis\")"
      ],
      "metadata": {
        "id": "qGp8aPpk9SEp",
        "outputId": "244ebae3-e2de-428d-a443-cde325757f65",
        "colab": {
          "base_uri": "https://localhost:8080/"
        }
      },
      "execution_count": null,
      "outputs": [
        {
          "output_type": "stream",
          "name": "stdout",
          "text": [
            "Veuillez saisir le nom de l'élève\n",
            "Mathis\n",
            "Saisissez le nombre de points que vous avez ?\n",
            "110\n",
            "Rattrapage\n"
          ]
        }
      ]
    },
    {
      "cell_type": "code",
      "source": [
        "print(\"Veuillez saisir le numéro du mois (1-12):\")\n",
        "mois = int(input())\n",
        "\n",
        "match mois:\n",
        "    case 1 : libel = \"C'est le mois de janvier\"\n",
        "    case 2 : libel = \"C'est le mois de février\"\n",
        "    case 3 : libel = \"C'est le mois de mars\"\n",
        "    case 4 : libel = \"C'est le mois de avril\"\n",
        "    case 5 : libel = \"C'est le mois de mai\"\n",
        "    case 6 : libel = \"C'est le mois de juin\"\n",
        "    case 7 : libel = \"C'est le mois de juillet\"\n",
        "    case 8 : libel = \"C'est le mois de août\"\n",
        "    case 9 : libel = \"C'est le mois de septembre\"\n",
        "    case 10 : libel = \"C'est le mois de octobre\"\n",
        "    case 11 : libel = \"C'est le mois de novembre\"\n",
        "    case 12 : libel = \"C'est le mois de décembre\"\n",
        "    case _ : libel = \"Erreur dans la saisie : le numéro doit être entre 1 et 12.\"\n",
        "\n",
        "if 1 <= mois <= 12:\n",
        "    print(f\"Le mois correspondant au chiffre {mois} {libel}.\")\n",
        "else:\n",
        "    print(\"Veuillez réessayer avec un numéro valide.\")"
      ],
      "metadata": {
        "id": "v6xU4NGuAIc3",
        "outputId": "d6171eda-84e3-40fd-a7ab-ed862d80008a",
        "colab": {
          "base_uri": "https://localhost:8080/"
        }
      },
      "execution_count": null,
      "outputs": [
        {
          "output_type": "stream",
          "name": "stdout",
          "text": [
            "Veuillez saisir le numéro du mois (1-12):\n",
            "1\n",
            "Le mois correspondant au chiffre 1 C'est le mois de janvier.\n"
          ]
        }
      ]
    },
    {
      "cell_type": "code",
      "source": [
        "oper = 0\n",
        "while oper < 11:\n",
        "  result = 2*oper\n",
        "  print(\"2 x\", oper, \"=\", result)\n",
        "  oper = oper + 1\n",
        "\n",
        "for oper in range(11):\n",
        "    result = 2 * oper\n",
        "    print(\"2 x\", oper, \"=\", result)"
      ],
      "metadata": {
        "id": "j9LuLS63Ggi0",
        "outputId": "f4e79f98-6fab-4ab3-f216-d31d8bbe5d3b",
        "colab": {
          "base_uri": "https://localhost:8080/"
        }
      },
      "execution_count": null,
      "outputs": [
        {
          "output_type": "stream",
          "name": "stdout",
          "text": [
            "2 x 0 = 0\n",
            "2 x 1 = 2\n",
            "2 x 2 = 4\n",
            "2 x 3 = 6\n",
            "2 x 4 = 8\n",
            "2 x 5 = 10\n",
            "2 x 6 = 12\n",
            "2 x 7 = 14\n",
            "2 x 8 = 16\n",
            "2 x 9 = 18\n",
            "2 x 10 = 20\n"
          ]
        }
      ]
    },
    {
      "cell_type": "code",
      "source": [
        "import array\n",
        "notes = []\n",
        "somme = 0\n",
        "for i in range(5):\n",
        "    print(f\"Saisir la note n°{i+1}\")\n",
        "    note = float(input())\n",
        "    notes.append(note)\n",
        "    somme += note\n",
        "\n",
        "print(f\"La moyenne est de {somme / len(notes)}\")\n",
        "\n",
        "print(\"Pour rappels les notes étaient :\")\n",
        "for note in notes:\n",
        "    print(note)\n"
      ],
      "metadata": {
        "id": "WiGFLMk1Eojk",
        "outputId": "606b0a00-a44c-4701-901d-f5dcf0544a2c",
        "colab": {
          "base_uri": "https://localhost:8080/"
        }
      },
      "execution_count": null,
      "outputs": [
        {
          "output_type": "stream",
          "name": "stdout",
          "text": [
            "Saisir la note n°1\n",
            "12\n",
            "Saisir la note n°2\n",
            "14.75\n",
            "Saisir la note n°3\n",
            "16\n",
            "Saisir la note n°4\n",
            "17\n",
            "La moyenne est de 14.9375\n",
            "Pour rappels les notes étaient :\n",
            "12.0\n",
            "14.75\n",
            "16.0\n",
            "17.0\n"
          ]
        }
      ]
    },
    {
      "cell_type": "code",
      "source": [
        "import numpy as np\n",
        "\n",
        "notes = np.array([])\n",
        "somme = 0\n",
        "for i in range(5):\n",
        "    print(f\"Saisir la note n°{i+1}\")\n",
        "    note = float(input())\n",
        "    notes = np.append(notes, note)\n",
        "    somme += note\n",
        "\n",
        "print(f\"La moyenne est de {somme / len(notes)}\")\n",
        "\n",
        "print(\"Pour rappels les notes étaient :\")\n",
        "for note in notes:\n",
        "    print(note)"
      ],
      "metadata": {
        "id": "DlrmqpWG-IV-",
        "outputId": "28b9c530-d2d1-462b-dfe5-6feca37990b9",
        "colab": {
          "base_uri": "https://localhost:8080/"
        }
      },
      "execution_count": null,
      "outputs": [
        {
          "output_type": "stream",
          "name": "stdout",
          "text": [
            "Saisir la note n°1\n",
            "15\n",
            "Saisir la note n°2\n",
            "14\n",
            "Saisir la note n°3\n",
            "9\n",
            "Saisir la note n°4\n",
            "2\n",
            "Saisir la note n°5\n",
            "20\n",
            "La moyenne est de 12.0\n",
            "Pour rappels les notes étaient :\n",
            "15.0\n",
            "14.0\n",
            "9.0\n",
            "2.0\n",
            "20.0\n"
          ]
        }
      ]
    },
    {
      "cell_type": "code",
      "source": [
        "notes = []\n",
        "somme = 0\n",
        "\n",
        "for i in range(5):\n",
        "    print(f\"Saisir la note n°{i+1}\")\n",
        "    note = float(input())\n",
        "    notes.append(note)\n",
        "    somme += note\n",
        "\n",
        "print(f\"La moyenne est de {somme / len(notes)}\")\n",
        "\n",
        "print(\"Pour rappel, les notes étaient :\")\n",
        "for note in notes:\n",
        "    print(note)"
      ],
      "metadata": {
        "colab": {
          "base_uri": "https://localhost:8080/"
        },
        "id": "KQeZDxOyDNB4",
        "outputId": "ba2e894d-3bf2-4577-85d6-88028fd3ea26"
      },
      "execution_count": null,
      "outputs": [
        {
          "output_type": "stream",
          "name": "stdout",
          "text": [
            "Saisir la note n°1\n",
            "14\n",
            "Saisir la note n°2\n",
            "12\n",
            "Saisir la note n°3\n",
            "5\n",
            "Saisir la note n°4\n",
            "9\n",
            "Saisir la note n°5\n",
            "20\n",
            "La moyenne est de 12.0\n",
            "Pour rappel, les notes étaient :\n",
            "14.0\n",
            "12.0\n",
            "5.0\n",
            "9.0\n",
            "20.0\n"
          ]
        }
      ]
    },
    {
      "cell_type": "code",
      "source": [
        "noms = [\"AMMAR\", \"DANIEL\", \"IDASIAK\", \"RIBAS\"]\n",
        "nom = input(\"Quel nom cherchez-vous ? \").strip().upper()\n",
        "i = 0\n",
        "while i < len(noms) and noms[i] != nom:\n",
        "    i += 1\n",
        "if i == len(noms):\n",
        "    print(\"Le nom n'est pas présent dans la liste.\")\n",
        "else:\n",
        "    print(\"Le nom \" + nom + \"se trouve à la position : \" + str(i + 1) )\n"
      ],
      "metadata": {
        "id": "j7ekGwsnOdwj",
        "outputId": "d5098361-b6c6-4cec-8f2f-5f2ad3127e11",
        "colab": {
          "base_uri": "https://localhost:8080/"
        }
      },
      "execution_count": 5,
      "outputs": [
        {
          "output_type": "stream",
          "name": "stdout",
          "text": [
            "Quel nom cherchez-vous ? idasiak\n",
            "Le nom IDASIAKse trouve à la position : 3\n"
          ]
        }
      ]
    }
  ]
}