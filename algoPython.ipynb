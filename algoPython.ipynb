{
  "nbformat": 4,
  "nbformat_minor": 0,
  "metadata": {
    "colab": {
      "provenance": [],
      "authorship_tag": "ABX9TyMhUSsTytErHLwJ+MhbJTrW",
      "include_colab_link": true
    },
    "kernelspec": {
      "name": "python3",
      "display_name": "Python 3"
    },
    "language_info": {
      "name": "python"
    }
  },
  "cells": [
    {
      "cell_type": "markdown",
      "metadata": {
        "id": "view-in-github",
        "colab_type": "text"
      },
      "source": [
        "<a href=\"https://colab.research.google.com/github/imxthexe/python/blob/main/algoPython.ipynb\" target=\"_parent\"><img src=\"https://colab.research.google.com/assets/colab-badge.svg\" alt=\"Open In Colab\"/></a>"
      ]
    },
    {
      "cell_type": "code",
      "execution_count": null,
      "metadata": {
        "id": "lcwgrYxf2D2W",
        "outputId": "ced71bba-2dcc-4a4b-d373-1ad202c6e730",
        "colab": {
          "base_uri": "https://localhost:8080/"
        }
      },
      "outputs": [
        {
          "output_type": "stream",
          "name": "stdout",
          "text": [
            "Quelles est le 1er opérateur ?\n",
            "69\n",
            "Quelles est le 2ème opérateur ?\n",
            "89\n",
            "Le resultat est de 69 x 89 est = 6141\n"
          ]
        }
      ],
      "source": [
        "print(\"Quelles est le 1er opérateur ?\")\n",
        "op1 = int(input())\n",
        "print(\"Quelles est le 2ème opérateur ?\")\n",
        "op2 = int(input())\n",
        "result = op1 * op2\n",
        "print(\"Le resultat est de\",op1, \"x\", op2 ,\"est =\", result)\n"
      ]
    },
    {
      "cell_type": "code",
      "source": [
        "print(\"Veuillez saisir le nom de l'élève\")\n",
        "nomEleve = input()\n",
        "print(\"Saisissez le nombre de points que vous avez ?\")\n",
        "points = int(input())\n",
        "if points < 120 :\n",
        "  if points >= 100 :\n",
        "    print(\"Vous êtes admis à l'oral\")\n",
        "  else :\n",
        "    print(\"Vous êtes refuser\")\n",
        "else :\n",
        "  print(\"Vous êtes admis\")"
      ],
      "metadata": {
        "id": "qGp8aPpk9SEp",
        "outputId": "bfea55ea-b5f6-4d4d-fc22-d32d9d5d2ff9",
        "colab": {
          "base_uri": "https://localhost:8080/"
        }
      },
      "execution_count": 4,
      "outputs": [
        {
          "output_type": "stream",
          "name": "stdout",
          "text": [
            "Veuillez saisir le nom de l'élève\n",
            "m\n",
            "Saisissez le nombre de points que vous avez ?\n",
            "150\n",
            "Vous êtes admis\n"
          ]
        }
      ]
    }
  ]
}