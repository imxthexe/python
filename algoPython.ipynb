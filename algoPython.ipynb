{
  "nbformat": 4,
  "nbformat_minor": 0,
  "metadata": {
    "colab": {
      "provenance": [],
      "include_colab_link": true
    },
    "kernelspec": {
      "name": "python3",
      "display_name": "Python 3"
    },
    "language_info": {
      "name": "python"
    }
  },
  "cells": [
    {
      "cell_type": "markdown",
      "metadata": {
        "id": "view-in-github",
        "colab_type": "text"
      },
      "source": [
        "<a href=\"https://colab.research.google.com/github/imxthexe/python/blob/main/algoPython.ipynb\" target=\"_parent\"><img src=\"https://colab.research.google.com/assets/colab-badge.svg\" alt=\"Open In Colab\"/></a>"
      ]
    },
    {
      "cell_type": "code",
      "execution_count": null,
      "metadata": {
        "id": "lcwgrYxf2D2W",
        "outputId": "ced71bba-2dcc-4a4b-d373-1ad202c6e730",
        "colab": {
          "base_uri": "https://localhost:8080/"
        }
      },
      "outputs": [
        {
          "output_type": "stream",
          "name": "stdout",
          "text": [
            "Quelles est le 1er opérateur ?\n",
            "69\n",
            "Quelles est le 2ème opérateur ?\n",
            "89\n",
            "Le resultat est de 69 x 89 est = 6141\n"
          ]
        }
      ],
      "source": [
        "print(\"Quelles est le 1er opérateur ?\")\n",
        "op1 = int(input())\n",
        "print(\"Quelles est le 2ème opérateur ?\")\n",
        "op2 = int(input())\n",
        "result = op1 * op2\n",
        "print(\"Le resultat est de\",op1, \"x\", op2 ,\"est =\", result)\n"
      ]
    },
    {
      "cell_type": "code",
      "source": [
        "print(\"Veuillez saisir le nom de l'élève\")\n",
        "nomEleve = input()\n",
        "print(\"Saisissez le nombre de points que vous avez ?\")\n",
        "points = int(input())\n",
        "if points < 120 :\n",
        "  if points >= 100 :\n",
        "    print(\"Rattrapage\")\n",
        "  else :\n",
        "    print(\"Refuser\")\n",
        "else :\n",
        "  print(\"Admis\")"
      ],
      "metadata": {
        "id": "qGp8aPpk9SEp",
        "outputId": "244ebae3-e2de-428d-a443-cde325757f65",
        "colab": {
          "base_uri": "https://localhost:8080/"
        }
      },
      "execution_count": null,
      "outputs": [
        {
          "output_type": "stream",
          "name": "stdout",
          "text": [
            "Veuillez saisir le nom de l'élève\n",
            "Mathis\n",
            "Saisissez le nombre de points que vous avez ?\n",
            "110\n",
            "Rattrapage\n"
          ]
        }
      ]
    },
    {
      "cell_type": "code",
      "source": [
        "print(\"Veuillez saisir le numéro du mois (1-12):\")\n",
        "mois = int(input())\n",
        "\n",
        "match mois:\n",
        "    case 1 : libel = \"C'est le mois de janvier\"\n",
        "    case 2 : libel = \"C'est le mois de février\"\n",
        "    case 3 : libel = \"C'est le mois de mars\"\n",
        "    case 4 : libel = \"C'est le mois de avril\"\n",
        "    case 5 : libel = \"C'est le mois de mai\"\n",
        "    case 6 : libel = \"C'est le mois de juin\"\n",
        "    case 7 : libel = \"C'est le mois de juillet\"\n",
        "    case 8 : libel = \"C'est le mois de août\"\n",
        "    case 9 : libel = \"C'est le mois de septembre\"\n",
        "    case 10 : libel = \"C'est le mois de octobre\"\n",
        "    case 11 : libel = \"C'est le mois de novembre\"\n",
        "    case 12 : libel = \"C'est le mois de décembre\"\n",
        "    case _ : libel = \"Erreur dans la saisie : le numéro doit être entre 1 et 12.\"\n",
        "\n",
        "if 1 <= mois <= 12:\n",
        "    print(f\"Le mois correspondant au chiffre {mois} {libel}.\")\n",
        "else:\n",
        "    print(\"Veuillez réessayer avec un numéro valide.\")"
      ],
      "metadata": {
        "id": "v6xU4NGuAIc3",
        "outputId": "d6171eda-84e3-40fd-a7ab-ed862d80008a",
        "colab": {
          "base_uri": "https://localhost:8080/"
        }
      },
      "execution_count": null,
      "outputs": [
        {
          "output_type": "stream",
          "name": "stdout",
          "text": [
            "Veuillez saisir le numéro du mois (1-12):\n",
            "1\n",
            "Le mois correspondant au chiffre 1 C'est le mois de janvier.\n"
          ]
        }
      ]
    },
    {
      "cell_type": "code",
      "source": [
        "oper = 0\n",
        "while oper < 11:\n",
        "  result = 2*oper\n",
        "  print(\"2 x\", oper, \"=\", result)\n",
        "  oper = oper + 1\n",
        "\n",
        "for oper in range(11):\n",
        "    result = 2 * oper\n",
        "    print(\"2 x\", oper, \"=\", result)"
      ],
      "metadata": {
        "id": "j9LuLS63Ggi0",
        "outputId": "f4e79f98-6fab-4ab3-f216-d31d8bbe5d3b",
        "colab": {
          "base_uri": "https://localhost:8080/"
        }
      },
      "execution_count": null,
      "outputs": [
        {
          "output_type": "stream",
          "name": "stdout",
          "text": [
            "2 x 0 = 0\n",
            "2 x 1 = 2\n",
            "2 x 2 = 4\n",
            "2 x 3 = 6\n",
            "2 x 4 = 8\n",
            "2 x 5 = 10\n",
            "2 x 6 = 12\n",
            "2 x 7 = 14\n",
            "2 x 8 = 16\n",
            "2 x 9 = 18\n",
            "2 x 10 = 20\n"
          ]
        }
      ]
    }
  ]
}